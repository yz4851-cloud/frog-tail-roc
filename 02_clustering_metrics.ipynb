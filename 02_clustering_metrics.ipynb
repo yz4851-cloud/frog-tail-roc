{
 "cells": [
  {
   "cell_type": "markdown",
   "id": "4af267c7",
   "metadata": {},
   "source": [
    "# 02 - Clustering & Metrics"
   ]
  },
  {
   "cell_type": "code",
   "execution_count": null,
   "id": "f47658c7",
   "metadata": {},
   "outputs": [],
   "source": [
    "\n",
    "import scanpy as sc, pandas as pd, numpy as np, matplotlib.pyplot as plt\n",
    "from sklearn.cluster import KMeans\n",
    "from sklearn.metrics import adjusted_rand_score, silhouette_score\n",
    "adata = sc.read_h5ad(\"results/preprocessed.h5ad\")\n",
    "sc.tl.louvain(adata, resolution=0.6, key_added='louvain_r06')\n",
    "sc.tl.leiden(adata, resolution=0.6, key_added='leiden_r06')\n",
    "X = adata.obsm['X_pca'][:, :30]\n",
    "k = len(adata.obs['leiden_r06'].unique())\n",
    "km = KMeans(n_clusters=k, n_init=25, random_state=0)\n",
    "adata.obs['kmeans_k_leiden'] = km.fit_predict(X).astype(str)\n",
    "sc.pl.umap(adata, color=['louvain_r06','leiden_r06','kmeans_k_leiden'], ncols=3, show=False)\n",
    "plt.savefig(\"results/figures/umap_clusters.png\", bbox_inches=\"tight\")\n",
    "ari_ll = adjusted_rand_score(adata.obs['louvain_r06'], adata.obs['leiden_r06'])\n",
    "sil_louv = silhouette_score(X, adata.obs['louvain_r06'].astype(int))\n",
    "sil_leid = silhouette_score(X, adata.obs['leiden_r06'].astype(int))\n",
    "sil_km = silhouette_score(X, adata.obs['kmeans_k_leiden'].astype(int))\n",
    "pd.DataFrame({'metric':['ARI(Louvain,Leiden)','Silhouette(Louvain)','Silhouette(Leiden)','Silhouette(k-means)'],'value':[ari_ll,sil_louv,sil_leid,sil_km]}).to_csv(\"results/clustering_metrics.csv\", index=False)\n",
    "sc.pl.umap(adata, color=['leiden_r06'], legend_loc='on data', show=False)\n",
    "plt.savefig(\"results/figures/umap_leiden_labels.png\", bbox_inches=\"tight\")\n",
    "print(\"ok\")\n"
   ]
  }
 ],
 "metadata": {},
 "nbformat": 4,
 "nbformat_minor": 5
}
