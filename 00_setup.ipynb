{
 "cells": [
  {
   "cell_type": "markdown",
   "id": "3af95429",
   "metadata": {},
   "source": [
    "# 00 - Setup"
   ]
  },
  {
   "cell_type": "code",
   "execution_count": null,
   "id": "0efeb11a",
   "metadata": {},
   "outputs": [],
   "source": [
    "\n",
    "import scanpy as sc, anndata as ad, pandas as pd, numpy as np\n",
    "from pathlib import Path\n",
    "DATA_PATH = Path(\"data/cleaned_processed_frogtail.h5ad\")\n",
    "print(\"Path:\", DATA_PATH)\n",
    "adata = sc.read_h5ad(DATA_PATH)\n",
    "print(adata)\n",
    "print(list(adata.obs.columns)[:30])\n",
    "print(list(adata.var.columns)[:30])\n",
    "print(list(adata.obsm.keys()))\n",
    "print(list(adata.uns.keys()))\n",
    "adata.obs.head(50).to_csv(\"results/obs_preview.tsv\", sep=\"\\t\")\n",
    "adata.var.head(50).to_csv(\"results/var_preview.tsv\", sep=\"\\t\")\n",
    "print(\"ok\")\n"
   ]
  }
 ],
 "metadata": {},
 "nbformat": 4,
 "nbformat_minor": 5
}
