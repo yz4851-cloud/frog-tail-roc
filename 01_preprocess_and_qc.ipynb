{
 "cells": [
  {
   "cell_type": "markdown",
   "id": "6339cd99",
   "metadata": {},
   "source": [
    "# 01 - Preprocess"
   ]
  },
  {
   "cell_type": "code",
   "execution_count": null,
   "id": "210c6b61",
   "metadata": {},
   "outputs": [],
   "source": [
    "\n",
    "import scanpy as sc, pandas as pd, numpy as np, matplotlib.pyplot as plt\n",
    "adata = sc.read_h5ad(\"data/cleaned_processed_frogtail.h5ad\")\n",
    "sc.pp.filter_cells(adata, min_genes=200)\n",
    "sc.pp.filter_genes(adata, min_cells=3)\n",
    "if 'mt' not in adata.var.columns:\n",
    "    adata.var['mt'] = adata.var_names.str.upper().str.startswith(('MT-','MT.'))\n",
    "sc.pp.calculate_qc_metrics(adata, qc_vars=['mt'], inplace=True)\n",
    "sc.pp.normalize_total(adata, target_sum=1e4)\n",
    "sc.pp.log1p(adata)\n",
    "sc.pp.highly_variable_genes(adata, n_top_genes=3000, flavor='seurat_v3')\n",
    "adata = adata[:, adata.var.highly_variable].copy()\n",
    "sc.pp.scale(adata, max_value=10)\n",
    "sc.tl.pca(adata, svd_solver='arpack')\n",
    "sc.pp.neighbors(adata, n_neighbors=15, n_pcs=30)\n",
    "sc.tl.umap(adata)\n",
    "adata.write_h5ad(\"results/preprocessed.h5ad\")\n",
    "keys = [k for k in ['tissue','batch','condition','time','stage','cell_type'] if k in adata.obs.columns]\n",
    "sc.pl.umap(adata, color=keys[:1] if keys else None, show=False)\n",
    "plt.savefig(\"results/figures/umap_prelim.png\", bbox_inches=\"tight\")\n",
    "print(\"ok\")\n"
   ]
  }
 ],
 "metadata": {},
 "nbformat": 4,
 "nbformat_minor": 5
}
